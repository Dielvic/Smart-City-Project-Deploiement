{
 "cells": [
  {
   "cell_type": "code",
   "execution_count": 1,
   "id": "27286dcb",
   "metadata": {},
   "outputs": [],
   "source": [
    "import numpy as np\n",
    "import pandas as pd\n",
    "import matplotlib.pyplot as plt\n",
    "import seaborn as sns"
   ]
  },
  {
   "cell_type": "code",
   "execution_count": 2,
   "id": "305d71af",
   "metadata": {},
   "outputs": [],
   "source": [
    "%matplotlib inline \n",
    "#rcParams[\"figure.figsize\"] =20,10"
   ]
  },
  {
   "cell_type": "code",
   "execution_count": 3,
   "id": "047a8a15",
   "metadata": {},
   "outputs": [],
   "source": [
    "data = pd.read_csv(\"Downloads\\Table_complete.csv\")"
   ]
  },
  {
   "cell_type": "code",
   "execution_count": 4,
   "id": "45461310",
   "metadata": {},
   "outputs": [
    {
     "data": {
      "text/html": [
       "<div>\n",
       "<style scoped>\n",
       "    .dataframe tbody tr th:only-of-type {\n",
       "        vertical-align: middle;\n",
       "    }\n",
       "\n",
       "    .dataframe tbody tr th {\n",
       "        vertical-align: top;\n",
       "    }\n",
       "\n",
       "    .dataframe thead th {\n",
       "        text-align: right;\n",
       "    }\n",
       "</style>\n",
       "<table border=\"1\" class=\"dataframe\">\n",
       "  <thead>\n",
       "    <tr style=\"text-align: right;\">\n",
       "      <th></th>\n",
       "      <th>Unnamed: 0</th>\n",
       "      <th>City</th>\n",
       "      <th>Cappuccino</th>\n",
       "      <th>Cinema</th>\n",
       "      <th>Wine</th>\n",
       "      <th>Gasoline</th>\n",
       "      <th>Avg.Rent</th>\n",
       "      <th>Avg.Disposable.Income</th>\n",
       "      <th>Country</th>\n",
       "      <th>y</th>\n",
       "    </tr>\n",
       "  </thead>\n",
       "  <tbody>\n",
       "    <tr>\n",
       "      <th>0</th>\n",
       "      <td>1</td>\n",
       "      <td>Basel</td>\n",
       "      <td>3.50</td>\n",
       "      <td>11.89</td>\n",
       "      <td>7.35</td>\n",
       "      <td>1.25</td>\n",
       "      <td>1649.29</td>\n",
       "      <td>3847.76</td>\n",
       "      <td>Switzerland</td>\n",
       "      <td>C8</td>\n",
       "    </tr>\n",
       "    <tr>\n",
       "      <th>1</th>\n",
       "      <td>2</td>\n",
       "      <td>Beijing</td>\n",
       "      <td>2.64</td>\n",
       "      <td>8.46</td>\n",
       "      <td>10.36</td>\n",
       "      <td>0.86</td>\n",
       "      <td>1586.25</td>\n",
       "      <td>600.13</td>\n",
       "      <td>China</td>\n",
       "      <td>C1</td>\n",
       "    </tr>\n",
       "    <tr>\n",
       "      <th>2</th>\n",
       "      <td>3</td>\n",
       "      <td>Belfast</td>\n",
       "      <td>2.19</td>\n",
       "      <td>5.98</td>\n",
       "      <td>6.22</td>\n",
       "      <td>1.39</td>\n",
       "      <td>807.12</td>\n",
       "      <td>1494.67</td>\n",
       "      <td>United Kingdom</td>\n",
       "      <td>C3</td>\n",
       "    </tr>\n",
       "    <tr>\n",
       "      <th>3</th>\n",
       "      <td>4</td>\n",
       "      <td>Belgrade</td>\n",
       "      <td>1.10</td>\n",
       "      <td>2.98</td>\n",
       "      <td>3.02</td>\n",
       "      <td>1.17</td>\n",
       "      <td>426.24</td>\n",
       "      <td>359.90</td>\n",
       "      <td>Serbia</td>\n",
       "      <td>C1</td>\n",
       "    </tr>\n",
       "    <tr>\n",
       "      <th>4</th>\n",
       "      <td>5</td>\n",
       "      <td>Belo Horizonte</td>\n",
       "      <td>1.38</td>\n",
       "      <td>5.69</td>\n",
       "      <td>8.13</td>\n",
       "      <td>0.90</td>\n",
       "      <td>764.05</td>\n",
       "      <td>455.69</td>\n",
       "      <td>Brazil</td>\n",
       "      <td>C1</td>\n",
       "    </tr>\n",
       "  </tbody>\n",
       "</table>\n",
       "</div>"
      ],
      "text/plain": [
       "   Unnamed: 0            City  Cappuccino  Cinema   Wine  Gasoline  Avg.Rent  \\\n",
       "0           1           Basel        3.50   11.89   7.35      1.25   1649.29   \n",
       "1           2         Beijing        2.64    8.46  10.36      0.86   1586.25   \n",
       "2           3         Belfast        2.19    5.98   6.22      1.39    807.12   \n",
       "3           4        Belgrade        1.10    2.98   3.02      1.17    426.24   \n",
       "4           5  Belo Horizonte        1.38    5.69   8.13      0.90    764.05   \n",
       "\n",
       "   Avg.Disposable.Income         Country   y  \n",
       "0                3847.76     Switzerland  C8  \n",
       "1                 600.13           China  C1  \n",
       "2                1494.67  United Kingdom  C3  \n",
       "3                 359.90          Serbia  C1  \n",
       "4                 455.69          Brazil  C1  "
      ]
     },
     "execution_count": 4,
     "metadata": {},
     "output_type": "execute_result"
    }
   ],
   "source": [
    "data.head()"
   ]
  },
  {
   "cell_type": "code",
   "execution_count": 5,
   "id": "9ee22275",
   "metadata": {},
   "outputs": [
    {
     "data": {
      "text/html": [
       "<div>\n",
       "<style scoped>\n",
       "    .dataframe tbody tr th:only-of-type {\n",
       "        vertical-align: middle;\n",
       "    }\n",
       "\n",
       "    .dataframe tbody tr th {\n",
       "        vertical-align: top;\n",
       "    }\n",
       "\n",
       "    .dataframe thead th {\n",
       "        text-align: right;\n",
       "    }\n",
       "</style>\n",
       "<table border=\"1\" class=\"dataframe\">\n",
       "  <thead>\n",
       "    <tr style=\"text-align: right;\">\n",
       "      <th></th>\n",
       "      <th>Unnamed: 0</th>\n",
       "      <th>City</th>\n",
       "      <th>Cappuccino</th>\n",
       "      <th>Cinema</th>\n",
       "      <th>Wine</th>\n",
       "      <th>Gasoline</th>\n",
       "      <th>Avg.Rent</th>\n",
       "      <th>Avg.Disposable.Income</th>\n",
       "      <th>Country</th>\n",
       "      <th>y</th>\n",
       "    </tr>\n",
       "  </thead>\n",
       "  <tbody>\n",
       "    <tr>\n",
       "      <th>191</th>\n",
       "      <td>192</td>\n",
       "      <td>Warsaw</td>\n",
       "      <td>1.66</td>\n",
       "      <td>5.19</td>\n",
       "      <td>5.19</td>\n",
       "      <td>1.18</td>\n",
       "      <td>726.59</td>\n",
       "      <td>664.31</td>\n",
       "      <td>Poland</td>\n",
       "      <td>C2</td>\n",
       "    </tr>\n",
       "    <tr>\n",
       "      <th>192</th>\n",
       "      <td>193</td>\n",
       "      <td>Washington</td>\n",
       "      <td>2.37</td>\n",
       "      <td>7.85</td>\n",
       "      <td>7.85</td>\n",
       "      <td>0.69</td>\n",
       "      <td>2451.63</td>\n",
       "      <td>2484.32</td>\n",
       "      <td>United States of America</td>\n",
       "      <td>C5</td>\n",
       "    </tr>\n",
       "    <tr>\n",
       "      <th>193</th>\n",
       "      <td>194</td>\n",
       "      <td>Wellington</td>\n",
       "      <td>2.20</td>\n",
       "      <td>8.82</td>\n",
       "      <td>8.27</td>\n",
       "      <td>1.17</td>\n",
       "      <td>1515.65</td>\n",
       "      <td>1763.67</td>\n",
       "      <td>New Zealand</td>\n",
       "      <td>C4</td>\n",
       "    </tr>\n",
       "    <tr>\n",
       "      <th>194</th>\n",
       "      <td>195</td>\n",
       "      <td>Zagreb</td>\n",
       "      <td>1.12</td>\n",
       "      <td>3.70</td>\n",
       "      <td>4.48</td>\n",
       "      <td>1.23</td>\n",
       "      <td>504.36</td>\n",
       "      <td>605.23</td>\n",
       "      <td>Croatia</td>\n",
       "      <td>C1</td>\n",
       "    </tr>\n",
       "    <tr>\n",
       "      <th>195</th>\n",
       "      <td>196</td>\n",
       "      <td>Zurich</td>\n",
       "      <td>3.28</td>\n",
       "      <td>12.59</td>\n",
       "      <td>8.40</td>\n",
       "      <td>1.31</td>\n",
       "      <td>2378.61</td>\n",
       "      <td>4197.55</td>\n",
       "      <td>Switzerland</td>\n",
       "      <td>C8</td>\n",
       "    </tr>\n",
       "  </tbody>\n",
       "</table>\n",
       "</div>"
      ],
      "text/plain": [
       "     Unnamed: 0        City  Cappuccino  Cinema  Wine  Gasoline  Avg.Rent  \\\n",
       "191         192      Warsaw        1.66    5.19  5.19      1.18    726.59   \n",
       "192         193  Washington        2.37    7.85  7.85      0.69   2451.63   \n",
       "193         194  Wellington        2.20    8.82  8.27      1.17   1515.65   \n",
       "194         195      Zagreb        1.12    3.70  4.48      1.23    504.36   \n",
       "195         196      Zurich        3.28   12.59  8.40      1.31   2378.61   \n",
       "\n",
       "     Avg.Disposable.Income                   Country   y  \n",
       "191                 664.31                    Poland  C2  \n",
       "192                2484.32  United States of America  C5  \n",
       "193                1763.67               New Zealand  C4  \n",
       "194                 605.23                   Croatia  C1  \n",
       "195                4197.55               Switzerland  C8  "
      ]
     },
     "execution_count": 5,
     "metadata": {},
     "output_type": "execute_result"
    }
   ],
   "source": [
    "data.tail()"
   ]
  },
  {
   "cell_type": "code",
   "execution_count": 6,
   "id": "19a82e73",
   "metadata": {},
   "outputs": [],
   "source": [
    "data.drop('Unnamed: 0', axis=1, inplace=True)"
   ]
  },
  {
   "cell_type": "code",
   "execution_count": 7,
   "id": "c20bf86c",
   "metadata": {},
   "outputs": [
    {
     "data": {
      "text/plain": [
       "Index(['City', 'Cappuccino', 'Cinema', 'Wine', 'Gasoline', 'Avg.Rent',\n",
       "       'Avg.Disposable.Income', 'Country', 'y'],\n",
       "      dtype='object')"
      ]
     },
     "execution_count": 7,
     "metadata": {},
     "output_type": "execute_result"
    }
   ],
   "source": [
    "data.columns"
   ]
  },
  {
   "cell_type": "code",
   "execution_count": 8,
   "id": "05eaf4ab",
   "metadata": {},
   "outputs": [],
   "source": [
    "data_Ordered = data.sort_values(by='Avg.Disposable.Income')"
   ]
  },
  {
   "cell_type": "code",
   "execution_count": 9,
   "id": "f3e7a691",
   "metadata": {},
   "outputs": [
    {
     "data": {
      "text/plain": [
       "<AxesSubplot:xlabel='y', ylabel='Avg.Disposable.Income'>"
      ]
     },
     "execution_count": 9,
     "metadata": {},
     "output_type": "execute_result"
    },
    {
     "data": {
      "image/png": "[encoded data removed]",
      "text/plain": [
       "<Figure size 432x288 with 1 Axes>"
      ]
     },
     "metadata": {
      "needs_background": "light"
     },
     "output_type": "display_data"
    }
   ],
   "source": [
    "sns.barplot(x='y', y='Avg.Disposable.Income', data=data_Ordered)"
   ]
  },
  {
   "cell_type": "code",
   "execution_count": 10,
   "id": "f4f2e9ab",
   "metadata": {},
   "outputs": [],
   "source": [
    "new_data =  data.set_index(\"City\").drop(['Country','y'], axis=1)"
   ]
  },
  {
   "cell_type": "code",
   "execution_count": 11,
   "id": "afa6474d",
   "metadata": {},
   "outputs": [
    {
     "data": {
      "text/html": [
       "<div>\n",
       "<style scoped>\n",
       "    .dataframe tbody tr th:only-of-type {\n",
       "        vertical-align: middle;\n",
       "    }\n",
       "\n",
       "    .dataframe tbody tr th {\n",
       "        vertical-align: top;\n",
       "    }\n",
       "\n",
       "    .dataframe thead th {\n",
       "        text-align: right;\n",
       "    }\n",
       "</style>\n",
       "<table border=\"1\" class=\"dataframe\">\n",
       "  <thead>\n",
       "    <tr style=\"text-align: right;\">\n",
       "      <th></th>\n",
       "      <th>Cappuccino</th>\n",
       "      <th>Cinema</th>\n",
       "      <th>Wine</th>\n",
       "      <th>Gasoline</th>\n",
       "      <th>Avg.Rent</th>\n",
       "      <th>Avg.Disposable.Income</th>\n",
       "    </tr>\n",
       "    <tr>\n",
       "      <th>City</th>\n",
       "      <th></th>\n",
       "      <th></th>\n",
       "      <th></th>\n",
       "      <th></th>\n",
       "      <th></th>\n",
       "      <th></th>\n",
       "    </tr>\n",
       "  </thead>\n",
       "  <tbody>\n",
       "    <tr>\n",
       "      <th>Basel</th>\n",
       "      <td>3.50</td>\n",
       "      <td>11.89</td>\n",
       "      <td>7.35</td>\n",
       "      <td>1.25</td>\n",
       "      <td>1649.29</td>\n",
       "      <td>3847.76</td>\n",
       "    </tr>\n",
       "    <tr>\n",
       "      <th>Beijing</th>\n",
       "      <td>2.64</td>\n",
       "      <td>8.46</td>\n",
       "      <td>10.36</td>\n",
       "      <td>0.86</td>\n",
       "      <td>1586.25</td>\n",
       "      <td>600.13</td>\n",
       "    </tr>\n",
       "    <tr>\n",
       "      <th>Belfast</th>\n",
       "      <td>2.19</td>\n",
       "      <td>5.98</td>\n",
       "      <td>6.22</td>\n",
       "      <td>1.39</td>\n",
       "      <td>807.12</td>\n",
       "      <td>1494.67</td>\n",
       "    </tr>\n",
       "    <tr>\n",
       "      <th>Belgrade</th>\n",
       "      <td>1.10</td>\n",
       "      <td>2.98</td>\n",
       "      <td>3.02</td>\n",
       "      <td>1.17</td>\n",
       "      <td>426.24</td>\n",
       "      <td>359.90</td>\n",
       "    </tr>\n",
       "    <tr>\n",
       "      <th>Belo Horizonte</th>\n",
       "      <td>1.38</td>\n",
       "      <td>5.69</td>\n",
       "      <td>8.13</td>\n",
       "      <td>0.90</td>\n",
       "      <td>764.05</td>\n",
       "      <td>455.69</td>\n",
       "    </tr>\n",
       "  </tbody>\n",
       "</table>\n",
       "</div>"
      ],
      "text/plain": [
       "                Cappuccino  Cinema   Wine  Gasoline  Avg.Rent  \\\n",
       "City                                                            \n",
       "Basel                 3.50   11.89   7.35      1.25   1649.29   \n",
       "Beijing               2.64    8.46  10.36      0.86   1586.25   \n",
       "Belfast               2.19    5.98   6.22      1.39    807.12   \n",
       "Belgrade              1.10    2.98   3.02      1.17    426.24   \n",
       "Belo Horizonte        1.38    5.69   8.13      0.90    764.05   \n",
       "\n",
       "                Avg.Disposable.Income  \n",
       "City                                   \n",
       "Basel                         3847.76  \n",
       "Beijing                        600.13  \n",
       "Belfast                       1494.67  \n",
       "Belgrade                       359.90  \n",
       "Belo Horizonte                 455.69  "
      ]
     },
     "execution_count": 11,
     "metadata": {},
     "output_type": "execute_result"
    }
   ],
   "source": [
    "new_data.head()"
   ]
  },
  {
   "cell_type": "code",
   "execution_count": 12,
   "id": "66399c58",
   "metadata": {},
   "outputs": [],
   "source": [
    "X = new_data.iloc[:, :].values"
   ]
  },
  {
   "cell_type": "code",
   "execution_count": 13,
   "id": "a65f72eb",
   "metadata": {},
   "outputs": [],
   "source": [
    "from sklearn.cluster import KMeans"
   ]
  },
  {
   "cell_type": "code",
   "execution_count": 14,
   "id": "3f7c7275",
   "metadata": {},
   "outputs": [
    {
     "name": "stderr",
     "output_type": "stream",
     "text": [
      "C:\\Users\\dielv\\anaconda3\\envs\\dashboard\\lib\\site-packages\\sklearn\\cluster\\_kmeans.py:1039: UserWarning: KMeans is known to have a memory leak on Windows with MKL, when there are less chunks than available threads. You can avoid it by setting the environment variable OMP_NUM_THREADS=1.\n",
      "  warnings.warn(\n"
     ]
    },
    {
     "data": {
      "image/png": "[encoded data removed]",
      "text/plain": [
       "<Figure size 720x432 with 1 Axes>"
      ]
     },
     "metadata": {
      "needs_background": "light"
     },
     "output_type": "display_data"
    }
   ],
   "source": [
    "#Choix du nombre de cluster\n",
    "wcss = []\n",
    "for i in range(1, 20):\n",
    "    kmeans = KMeans(n_clusters = i, init = 'k-means++', random_state = 42)\n",
    "    kmeans.fit(X)\n",
    "    wcss.append(kmeans.inertia_)\n",
    "plt.figure(figsize=(10,6))\n",
    "plt.plot(range(1, 20), wcss)\n",
    "plt.title('The Elbow Method')\n",
    "plt.xlabel('Number of clusters')\n",
    "plt.ylabel('WCSS')\n",
    "plt.show()"
   ]
  },
  {
   "cell_type": "markdown",
   "id": "a67c0e73",
   "metadata": {},
   "source": [
    "### Feature Scaling"
   ]
  },
  {
   "cell_type": "code",
   "execution_count": 15,
   "id": "c7a35123",
   "metadata": {},
   "outputs": [],
   "source": [
    "from sklearn.preprocessing import MinMaxScaler\n",
    "scaler = MinMaxScaler()\n",
    "X= scaler.fit_transform(X)"
   ]
  },
  {
   "cell_type": "code",
   "execution_count": 16,
   "id": "9e8f92db",
   "metadata": {},
   "outputs": [],
   "source": [
    "# On choisit 5 cluster\n",
    "# Training the K-Means model on the dataset\n",
    "kmeans = KMeans(n_clusters = 3, init = 'k-means++', random_state = 42)\n",
    "y_kmeans = kmeans.fit_predict(X)"
   ]
  },
  {
   "cell_type": "code",
   "execution_count": 17,
   "id": "a457d084",
   "metadata": {},
   "outputs": [
    {
     "data": {
      "text/plain": [
       "(3, 6)"
      ]
     },
     "execution_count": 17,
     "metadata": {},
     "output_type": "execute_result"
    }
   ],
   "source": [
    "kmeans.cluster_centers_.shape"
   ]
  },
  {
   "cell_type": "code",
   "execution_count": 18,
   "id": "36dcfa93",
   "metadata": {},
   "outputs": [
    {
     "name": "stderr",
     "output_type": "stream",
     "text": [
      "No handles with labels found to put in legend.\n"
     ]
    },
    {
     "data": {
      "text/plain": [
       "<matplotlib.legend.Legend at 0x2ad2e609fd0>"
      ]
     },
     "execution_count": 18,
     "metadata": {},
     "output_type": "execute_result"
    },
    {
     "data": {
      "image/png": "[encoded data removed]",
      "text/plain": [
       "<Figure size 720x576 with 1 Axes>"
      ]
     },
     "metadata": {
      "needs_background": "light"
     },
     "output_type": "display_data"
    }
   ],
   "source": [
    "# Visualisation des cluster\n",
    "plt.figure(figsize=(10,8))\n",
    "plt.scatter(X[:,0],X[:,5], c= y_kmeans)\n",
    "plt.scatter(kmeans.cluster_centers_[:,0], kmeans.cluster_centers_[:,5], c='r')\n",
    "plt.legend()"
   ]
  },
  {
   "cell_type": "code",
   "execution_count": 19,
   "id": "283605ef",
   "metadata": {},
   "outputs": [
    {
     "data": {
      "text/plain": [
       "16.327311191635417"
      ]
     },
     "execution_count": 19,
     "metadata": {},
     "output_type": "execute_result"
    }
   ],
   "source": [
    "kmeans.inertia_"
   ]
  },
  {
   "cell_type": "code",
   "execution_count": 20,
   "id": "630fc474",
   "metadata": {},
   "outputs": [
    {
     "data": {
      "text/plain": [
       "array([0, 1, 0, 2, 2, 0, 0, 0, 2, 1, 2, 2, 0, 1, 0, 0, 2, 2, 2, 2, 1, 0,\n",
       "       1, 2, 1, 2, 2, 1, 2, 2, 1, 0, 0, 2, 0, 2, 0, 2, 1, 1, 2, 2, 1, 2,\n",
       "       1, 0, 1, 0, 0, 0, 1, 0, 2, 0, 2, 0, 0, 0, 1, 0, 2, 0, 0, 1, 2, 0,\n",
       "       0, 1, 1, 2, 1, 2, 0, 0, 1, 0, 2, 2, 2, 2, 2, 2, 2, 1, 2, 1, 0, 0,\n",
       "       0, 2, 0, 2, 0, 2, 2, 0, 1, 0, 0, 0, 2, 0, 1, 0, 2, 0, 0, 2, 1, 2,\n",
       "       1, 0, 1, 2, 2, 1, 1, 2, 0, 1, 2, 2, 1, 1, 1, 1, 0, 0, 2, 0, 1, 0,\n",
       "       1, 0, 0, 2, 1, 1, 1, 1, 2, 2, 2, 2, 2, 2, 1, 2, 1, 1, 0, 0, 1, 2,\n",
       "       1, 1, 1, 2, 2, 2, 1, 0, 1, 1, 2, 2, 0, 0, 0, 0, 1, 2, 1, 1, 0, 0,\n",
       "       2, 1, 1, 0, 0, 2, 0, 2, 2, 1, 2, 0, 1, 0, 2, 2, 1, 0, 2, 0])"
      ]
     },
     "execution_count": 20,
     "metadata": {},
     "output_type": "execute_result"
    }
   ],
   "source": [
    "kmeans.labels_"
   ]
  },
  {
   "cell_type": "code",
   "execution_count": 21,
   "id": "8417829a",
   "metadata": {},
   "outputs": [],
   "source": [
    "data['label'] = kmeans.labels_"
   ]
  },
  {
   "cell_type": "code",
   "execution_count": 22,
   "id": "ff7ed97e",
   "metadata": {},
   "outputs": [
    {
     "data": {
      "text/html": [
       "<div>\n",
       "<style scoped>\n",
       "    .dataframe tbody tr th:only-of-type {\n",
       "        vertical-align: middle;\n",
       "    }\n",
       "\n",
       "    .dataframe tbody tr th {\n",
       "        vertical-align: top;\n",
       "    }\n",
       "\n",
       "    .dataframe thead th {\n",
       "        text-align: right;\n",
       "    }\n",
       "</style>\n",
       "<table border=\"1\" class=\"dataframe\">\n",
       "  <thead>\n",
       "    <tr style=\"text-align: right;\">\n",
       "      <th></th>\n",
       "      <th>City</th>\n",
       "      <th>Cappuccino</th>\n",
       "      <th>Cinema</th>\n",
       "      <th>Wine</th>\n",
       "      <th>Gasoline</th>\n",
       "      <th>Avg.Rent</th>\n",
       "      <th>Avg.Disposable.Income</th>\n",
       "      <th>Country</th>\n",
       "      <th>y</th>\n",
       "      <th>label</th>\n",
       "    </tr>\n",
       "  </thead>\n",
       "  <tbody>\n",
       "    <tr>\n",
       "      <th>0</th>\n",
       "      <td>Basel</td>\n",
       "      <td>3.50</td>\n",
       "      <td>11.89</td>\n",
       "      <td>7.35</td>\n",
       "      <td>1.25</td>\n",
       "      <td>1649.29</td>\n",
       "      <td>3847.76</td>\n",
       "      <td>Switzerland</td>\n",
       "      <td>C8</td>\n",
       "      <td>0</td>\n",
       "    </tr>\n",
       "    <tr>\n",
       "      <th>1</th>\n",
       "      <td>Beijing</td>\n",
       "      <td>2.64</td>\n",
       "      <td>8.46</td>\n",
       "      <td>10.36</td>\n",
       "      <td>0.86</td>\n",
       "      <td>1586.25</td>\n",
       "      <td>600.13</td>\n",
       "      <td>China</td>\n",
       "      <td>C1</td>\n",
       "      <td>1</td>\n",
       "    </tr>\n",
       "    <tr>\n",
       "      <th>2</th>\n",
       "      <td>Belfast</td>\n",
       "      <td>2.19</td>\n",
       "      <td>5.98</td>\n",
       "      <td>6.22</td>\n",
       "      <td>1.39</td>\n",
       "      <td>807.12</td>\n",
       "      <td>1494.67</td>\n",
       "      <td>United Kingdom</td>\n",
       "      <td>C3</td>\n",
       "      <td>0</td>\n",
       "    </tr>\n",
       "    <tr>\n",
       "      <th>3</th>\n",
       "      <td>Belgrade</td>\n",
       "      <td>1.10</td>\n",
       "      <td>2.98</td>\n",
       "      <td>3.02</td>\n",
       "      <td>1.17</td>\n",
       "      <td>426.24</td>\n",
       "      <td>359.90</td>\n",
       "      <td>Serbia</td>\n",
       "      <td>C1</td>\n",
       "      <td>2</td>\n",
       "    </tr>\n",
       "    <tr>\n",
       "      <th>4</th>\n",
       "      <td>Belo Horizonte</td>\n",
       "      <td>1.38</td>\n",
       "      <td>5.69</td>\n",
       "      <td>8.13</td>\n",
       "      <td>0.90</td>\n",
       "      <td>764.05</td>\n",
       "      <td>455.69</td>\n",
       "      <td>Brazil</td>\n",
       "      <td>C1</td>\n",
       "      <td>2</td>\n",
       "    </tr>\n",
       "    <tr>\n",
       "      <th>...</th>\n",
       "      <td>...</td>\n",
       "      <td>...</td>\n",
       "      <td>...</td>\n",
       "      <td>...</td>\n",
       "      <td>...</td>\n",
       "      <td>...</td>\n",
       "      <td>...</td>\n",
       "      <td>...</td>\n",
       "      <td>...</td>\n",
       "      <td>...</td>\n",
       "    </tr>\n",
       "    <tr>\n",
       "      <th>191</th>\n",
       "      <td>Warsaw</td>\n",
       "      <td>1.66</td>\n",
       "      <td>5.19</td>\n",
       "      <td>5.19</td>\n",
       "      <td>1.18</td>\n",
       "      <td>726.59</td>\n",
       "      <td>664.31</td>\n",
       "      <td>Poland</td>\n",
       "      <td>C2</td>\n",
       "      <td>2</td>\n",
       "    </tr>\n",
       "    <tr>\n",
       "      <th>192</th>\n",
       "      <td>Washington</td>\n",
       "      <td>2.37</td>\n",
       "      <td>7.85</td>\n",
       "      <td>7.85</td>\n",
       "      <td>0.69</td>\n",
       "      <td>2451.63</td>\n",
       "      <td>2484.32</td>\n",
       "      <td>United States of America</td>\n",
       "      <td>C5</td>\n",
       "      <td>1</td>\n",
       "    </tr>\n",
       "    <tr>\n",
       "      <th>193</th>\n",
       "      <td>Wellington</td>\n",
       "      <td>2.20</td>\n",
       "      <td>8.82</td>\n",
       "      <td>8.27</td>\n",
       "      <td>1.17</td>\n",
       "      <td>1515.65</td>\n",
       "      <td>1763.67</td>\n",
       "      <td>New Zealand</td>\n",
       "      <td>C4</td>\n",
       "      <td>0</td>\n",
       "    </tr>\n",
       "    <tr>\n",
       "      <th>194</th>\n",
       "      <td>Zagreb</td>\n",
       "      <td>1.12</td>\n",
       "      <td>3.70</td>\n",
       "      <td>4.48</td>\n",
       "      <td>1.23</td>\n",
       "      <td>504.36</td>\n",
       "      <td>605.23</td>\n",
       "      <td>Croatia</td>\n",
       "      <td>C1</td>\n",
       "      <td>2</td>\n",
       "    </tr>\n",
       "    <tr>\n",
       "      <th>195</th>\n",
       "      <td>Zurich</td>\n",
       "      <td>3.28</td>\n",
       "      <td>12.59</td>\n",
       "      <td>8.40</td>\n",
       "      <td>1.31</td>\n",
       "      <td>2378.61</td>\n",
       "      <td>4197.55</td>\n",
       "      <td>Switzerland</td>\n",
       "      <td>C8</td>\n",
       "      <td>0</td>\n",
       "    </tr>\n",
       "  </tbody>\n",
       "</table>\n",
       "<p>196 rows × 10 columns</p>\n",
       "</div>"
      ],
      "text/plain": [
       "               City  Cappuccino  Cinema   Wine  Gasoline  Avg.Rent  \\\n",
       "0             Basel        3.50   11.89   7.35      1.25   1649.29   \n",
       "1           Beijing        2.64    8.46  10.36      0.86   1586.25   \n",
       "2           Belfast        2.19    5.98   6.22      1.39    807.12   \n",
       "3          Belgrade        1.10    2.98   3.02      1.17    426.24   \n",
       "4    Belo Horizonte        1.38    5.69   8.13      0.90    764.05   \n",
       "..              ...         ...     ...    ...       ...       ...   \n",
       "191          Warsaw        1.66    5.19   5.19      1.18    726.59   \n",
       "192      Washington        2.37    7.85   7.85      0.69   2451.63   \n",
       "193      Wellington        2.20    8.82   8.27      1.17   1515.65   \n",
       "194          Zagreb        1.12    3.70   4.48      1.23    504.36   \n",
       "195          Zurich        3.28   12.59   8.40      1.31   2378.61   \n",
       "\n",
       "     Avg.Disposable.Income                   Country   y  label  \n",
       "0                  3847.76               Switzerland  C8      0  \n",
       "1                   600.13                     China  C1      1  \n",
       "2                  1494.67            United Kingdom  C3      0  \n",
       "3                   359.90                    Serbia  C1      2  \n",
       "4                   455.69                    Brazil  C1      2  \n",
       "..                     ...                       ...  ..    ...  \n",
       "191                 664.31                    Poland  C2      2  \n",
       "192                2484.32  United States of America  C5      1  \n",
       "193                1763.67               New Zealand  C4      0  \n",
       "194                 605.23                   Croatia  C1      2  \n",
       "195                4197.55               Switzerland  C8      0  \n",
       "\n",
       "[196 rows x 10 columns]"
      ]
     },
     "execution_count": 22,
     "metadata": {},
     "output_type": "execute_result"
    }
   ],
   "source": [
    "data"
   ]
  },
  {
   "cell_type": "code",
   "execution_count": 23,
   "id": "34f549a1",
   "metadata": {},
   "outputs": [
    {
     "data": {
      "text/plain": [
       "<seaborn.axisgrid.FacetGrid at 0x2ad2e6659d0>"
      ]
     },
     "execution_count": 23,
     "metadata": {},
     "output_type": "execute_result"
    },
    {
     "data": {
      "image/png": "[encoded data removed]",
      "text/plain": [
       "<Figure size 402.375x360 with 1 Axes>"
      ]
     },
     "metadata": {
      "needs_background": "light"
     },
     "output_type": "display_data"
    }
   ],
   "source": [
    "sns.catplot(x=\"y\", hue=\"label\", kind=\"count\", edgecolor=\".6\",data=data)"
   ]
  },
  {
   "cell_type": "code",
   "execution_count": 24,
   "id": "e2c150cc",
   "metadata": {},
   "outputs": [
    {
     "data": {
      "text/plain": [
       "array([0])"
      ]
     },
     "execution_count": 24,
     "metadata": {},
     "output_type": "execute_result"
    }
   ],
   "source": [
    "kmeans.predict(scaler.transform([[4,8,5.25,7,1000,2500]]).reshape(1,-1))"
   ]
  },
  {
   "cell_type": "code",
   "execution_count": 25,
   "id": "d128be28",
   "metadata": {},
   "outputs": [
    {
     "data": {
      "text/plain": [
       "'# load the model\\nmodel = pickle.load(open(\"model_kmeans.pkl\", \"rb\"))\\n\\n# use model to predict\\ny_pred = model_kmeans.predict(X_input)'"
      ]
     },
     "execution_count": 25,
     "metadata": {},
     "output_type": "execute_result"
    }
   ],
   "source": [
    "\"\"\"# load the model\n",
    "model = pickle.load(open(\"model_kmeans.pkl\", \"rb\"))\n",
    "\n",
    "# use model to predict\n",
    "y_pred = model_kmeans.predict(X_input)\"\"\""
   ]
  },
  {
   "cell_type": "code",
   "execution_count": 26,
   "id": "ec5a0480",
   "metadata": {},
   "outputs": [],
   "source": [
    "import joblib"
   ]
  },
  {
   "cell_type": "code",
   "execution_count": 27,
   "id": "47d9463d",
   "metadata": {},
   "outputs": [
    {
     "data": {
      "text/plain": [
       "['smart_city_scaler.pkl']"
      ]
     },
     "execution_count": 27,
     "metadata": {},
     "output_type": "execute_result"
    }
   ],
   "source": [
    "joblib.dump(scaler,'smart_city_scaler.pkl')"
   ]
  },
  {
   "cell_type": "code",
   "execution_count": 28,
   "id": "d180ae05",
   "metadata": {},
   "outputs": [
    {
     "data": {
      "text/plain": [
       "['smart_city_model.sav']"
      ]
     },
     "execution_count": 28,
     "metadata": {},
     "output_type": "execute_result"
    }
   ],
   "source": [
    "joblib.dump(kmeans,'smart_city_model.sav')"
   ]
  },
  {
   "cell_type": "code",
   "execution_count": 29,
   "id": "dbbf6455",
   "metadata": {},
   "outputs": [],
   "source": [
    "smart_c_model = joblib.load(\"smart_city_model.sav\")"
   ]
  },
  {
   "cell_type": "code",
   "execution_count": 30,
   "id": "c00121aa",
   "metadata": {},
   "outputs": [],
   "source": [
    "smart_c_scaler = joblib.load('smart_city_scaler.pkl')"
   ]
  },
  {
   "cell_type": "code",
   "execution_count": 31,
   "id": "e96b3a0c",
   "metadata": {},
   "outputs": [
    {
     "data": {
      "text/html": [
       "<div>\n",
       "<style scoped>\n",
       "    .dataframe tbody tr th:only-of-type {\n",
       "        vertical-align: middle;\n",
       "    }\n",
       "\n",
       "    .dataframe tbody tr th {\n",
       "        vertical-align: top;\n",
       "    }\n",
       "\n",
       "    .dataframe thead th {\n",
       "        text-align: right;\n",
       "    }\n",
       "</style>\n",
       "<table border=\"1\" class=\"dataframe\">\n",
       "  <thead>\n",
       "    <tr style=\"text-align: right;\">\n",
       "      <th></th>\n",
       "      <th>Cappuccino</th>\n",
       "      <th>Cinema</th>\n",
       "      <th>Wine</th>\n",
       "      <th>Gasoline</th>\n",
       "      <th>Avg.Rent</th>\n",
       "      <th>Avg.Disposable.Income</th>\n",
       "    </tr>\n",
       "    <tr>\n",
       "      <th>City</th>\n",
       "      <th></th>\n",
       "      <th></th>\n",
       "      <th></th>\n",
       "      <th></th>\n",
       "      <th></th>\n",
       "      <th></th>\n",
       "    </tr>\n",
       "  </thead>\n",
       "  <tbody>\n",
       "    <tr>\n",
       "      <th>Basel</th>\n",
       "      <td>3.5</td>\n",
       "      <td>11.89</td>\n",
       "      <td>7.35</td>\n",
       "      <td>1.25</td>\n",
       "      <td>1649.29</td>\n",
       "      <td>3847.76</td>\n",
       "    </tr>\n",
       "  </tbody>\n",
       "</table>\n",
       "</div>"
      ],
      "text/plain": [
       "       Cappuccino  Cinema  Wine  Gasoline  Avg.Rent  Avg.Disposable.Income\n",
       "City                                                                      \n",
       "Basel         3.5   11.89  7.35      1.25   1649.29                3847.76"
      ]
     },
     "execution_count": 31,
     "metadata": {},
     "output_type": "execute_result"
    }
   ],
   "source": [
    "new_data.head(1)"
   ]
  },
  {
   "cell_type": "code",
   "execution_count": 32,
   "id": "6c94a049",
   "metadata": {},
   "outputs": [],
   "source": [
    "place_example = {'Cappuccino':3.50,\n",
    "                'Cinema' : 11.89,\n",
    "                'Wine' : 7.35,\n",
    "                'Gasoline' : 1.25,\n",
    "                'Avg.Rent' : 1649.29,\n",
    "                'Avg.Disposable.Income' : 3847.76}"
   ]
  },
  {
   "cell_type": "code",
   "execution_count": 33,
   "id": "7c35a77a",
   "metadata": {},
   "outputs": [],
   "source": [
    "def return_prediction(model,scaler,sample_json):\n",
    "    capp_ = sample_json['Cappuccino']\n",
    "    cine_ = sample_json['Cinema']\n",
    "    wine_ = sample_json[\"Wine\"]\n",
    "    gaso_ = sample_json['Gasoline']\n",
    "    rent_ = sample_json['Avg.Rent']\n",
    "    inc_ = sample_json['Avg.Disposable.Income']\n",
    "    \n",
    "    place = [[capp_,cine_,wine_,gaso_,rent_,inc_]]\n",
    "    \n",
    "    place = scaler.transform(place)\n",
    "    \n",
    "    classes = model.predict(place)\n",
    "    \n",
    "    villes = data['City'][data['label']==int(classes)]\n",
    "    \n",
    "    return list(villes)"
   ]
  },
  {
   "cell_type": "code",
   "execution_count": 34,
   "id": "2c00145f",
   "metadata": {},
   "outputs": [
    {
     "data": {
      "text/plain": [
       "['Basel',\n",
       " 'Belfast',\n",
       " 'Bergen',\n",
       " 'Berlin',\n",
       " 'Birmingham',\n",
       " 'Brighton',\n",
       " 'Bristol',\n",
       " 'Brussels',\n",
       " 'Cambridge',\n",
       " 'Christchurch',\n",
       " 'Cologne',\n",
       " 'Copenhagen',\n",
       " 'Cork',\n",
       " 'Dresden',\n",
       " 'Dublin',\n",
       " 'Dusseldorf',\n",
       " 'Edinburgh',\n",
       " 'Florence',\n",
       " 'Frankfurt',\n",
       " 'Galway',\n",
       " 'Geneva',\n",
       " 'Glasgow',\n",
       " 'Gothenburg',\n",
       " 'Haifa',\n",
       " 'Hamburg',\n",
       " 'Helsinki',\n",
       " 'Hong Kong',\n",
       " 'Istanbul',\n",
       " 'Izmir',\n",
       " 'Jerusalem',\n",
       " 'Lausanne',\n",
       " 'Leeds',\n",
       " 'Leicester',\n",
       " 'Limassol',\n",
       " 'Liverpool',\n",
       " 'London',\n",
       " 'Luxembourg',\n",
       " 'Lyon',\n",
       " 'Madrid',\n",
       " 'Malmo',\n",
       " 'Manchester',\n",
       " 'Marbella',\n",
       " 'Marseille',\n",
       " 'Milan',\n",
       " 'Munich',\n",
       " 'Nice',\n",
       " 'Nicosia',\n",
       " 'Nottingham',\n",
       " 'Oslo',\n",
       " 'Oxford',\n",
       " 'Paris',\n",
       " 'Rome',\n",
       " 'Rotterdam',\n",
       " 'Seoul',\n",
       " 'Stavanger',\n",
       " 'Stockholm',\n",
       " 'Strasbourg',\n",
       " 'Stuttgart',\n",
       " 'The Hague',\n",
       " 'Thessaloniki',\n",
       " 'Toulouse',\n",
       " 'Trondheim',\n",
       " 'Utrecht',\n",
       " 'Venice',\n",
       " 'Vienna',\n",
       " 'Wellington',\n",
       " 'Zurich']"
      ]
     },
     "execution_count": 34,
     "metadata": {},
     "output_type": "execute_result"
    }
   ],
   "source": [
    "return_prediction(smart_c_model,smart_c_scaler,place_example)"
   ]
  },
  {
   "cell_type": "markdown",
   "id": "63688ffe",
   "metadata": {},
   "source": [
    "### Pour le déploiement"
   ]
  },
  {
   "cell_type": "code",
   "execution_count": 35,
   "id": "c4611b0e",
   "metadata": {},
   "outputs": [
    {
     "data": {
      "text/plain": [
       "'import pickle\\nimport joblib\\nimport numpy as np\\n\\nsmart_c_model = pickle.load(open(\"smart_city_model.pkl\", \"rb\"))\\nsmart_c_scaler = joblib.load(\\'smart_city_scaler.plk\\')\\n\\ndef return_prediction(model,scaler,sample_json):\\n    capp_ = sample_json[\\'Cappuccino\\']\\n    cine_ = sample_json[\\'Cinema\\']\\n    wine_ = sample_json[\"Wine\"]\\n    gaso_ = sample_json[\\'Gasoline\\']\\n    rent_ = sample_json[\\'Avg.Rent\\']\\n    inc_ = sample_json[\\'Avg.Disposable.Income\\']\\n    \\n    place = [[capp_,cine_,wine_,gaso_,rent_,inc_]]\\n    \\n    place = scaler.transform(place)\\n    \\n    classes = model.predict(place)\\n    \\n    return classes '"
      ]
     },
     "execution_count": 35,
     "metadata": {},
     "output_type": "execute_result"
    }
   ],
   "source": [
    "'''import pickle\n",
    "import joblib\n",
    "import numpy as np\n",
    "\n",
    "smart_c_model = pickle.load(open(\"smart_city_model.pkl\", \"rb\"))\n",
    "smart_c_scaler = joblib.load('smart_city_scaler.plk')\n",
    "\n",
    "def return_prediction(model,scaler,sample_json):\n",
    "    capp_ = sample_json['Cappuccino']\n",
    "    cine_ = sample_json['Cinema']\n",
    "    wine_ = sample_json[\"Wine\"]\n",
    "    gaso_ = sample_json['Gasoline']\n",
    "    rent_ = sample_json['Avg.Rent']\n",
    "    inc_ = sample_json['Avg.Disposable.Income']\n",
    "    \n",
    "    place = [[capp_,cine_,wine_,gaso_,rent_,inc_]]\n",
    "    \n",
    "    place = scaler.transform(place)\n",
    "    \n",
    "    classes = model.predict(place)\n",
    "    \n",
    "    return classes '''"
   ]
  },
  {
   "cell_type": "code",
   "execution_count": null,
   "id": "2a25e7f3",
   "metadata": {},
   "outputs": [],
   "source": []
  }
 ],
 "metadata": {
  "kernelspec": {
   "display_name": "Python 3 (ipykernel)",
   "language": "python",
   "name": "python3"
  },
  "language_info": {
   "codemirror_mode": {
    "name": "ipython",
    "version": 3
   },
   "file_extension": ".py",
   "mimetype": "text/x-python",
   "name": "python",
   "nbconvert_exporter": "python",
   "pygments_lexer": "ipython3",
   "version": "3.8.12"
  }
 },
 "nbformat": 4,
 "nbformat_minor": 5
}
